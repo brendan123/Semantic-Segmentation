{
  "cells": [
    {
      "cell_type": "markdown",
      "metadata": {
        "id": "view-in-github",
        "colab_type": "text"
      },
      "source": [
        "<a href=\"https://colab.research.google.com/github/brendan123/Semantic-Segmentation/blob/milestone-3/Milestone_3_SemanticSegementation.ipynb\" target=\"_parent\"><img src=\"https://colab.research.google.com/assets/colab-badge.svg\" alt=\"Open In Colab\"/></a>"
      ]
    },
    {
      "cell_type": "markdown",
      "metadata": {
        "id": "kdg-353u7sfD"
      },
      "source": [
        "# Milestone 3: Perform Baseline Semantic Segmentation"
      ]
    },
    {
      "cell_type": "markdown",
      "metadata": {
        "id": "jsTluW1i7lCs"
      },
      "source": [
        "## Install Dependencies"
      ]
    },
    {
      "cell_type": "code",
      "execution_count": 1,
      "metadata": {
        "colab": {
          "base_uri": "https://localhost:8080/"
        },
        "id": "QUmRFa9brLDD",
        "outputId": "ad1cbc93-ac52-48fc-a67f-bfcf86c955e0"
      },
      "outputs": [
        {
          "output_type": "stream",
          "name": "stdout",
          "text": [
            "Looking in indexes: https://pypi.org/simple, https://us-python.pkg.dev/colab-wheels/public/simple/\n",
            "Collecting patchify\n",
            "  Downloading patchify-0.2.3-py3-none-any.whl (6.6 kB)\n",
            "Requirement already satisfied: numpy<2,>=1 in /usr/local/lib/python3.7/dist-packages (from patchify) (1.21.6)\n",
            "Installing collected packages: patchify\n",
            "Successfully installed patchify-0.2.3\n",
            "Looking in indexes: https://pypi.org/simple, https://us-python.pkg.dev/colab-wheels/public/simple/\n",
            "Collecting segmentation-models\n",
            "  Downloading segmentation_models-1.0.1-py3-none-any.whl (33 kB)\n",
            "Collecting image-classifiers==1.0.0\n",
            "  Downloading image_classifiers-1.0.0-py3-none-any.whl (19 kB)\n",
            "Collecting efficientnet==1.0.0\n",
            "  Downloading efficientnet-1.0.0-py3-none-any.whl (17 kB)\n",
            "Collecting keras-applications<=1.0.8,>=1.0.7\n",
            "  Downloading Keras_Applications-1.0.8-py3-none-any.whl (50 kB)\n",
            "\u001b[K     |████████████████████████████████| 50 kB 5.9 MB/s \n",
            "\u001b[?25hRequirement already satisfied: scikit-image in /usr/local/lib/python3.7/dist-packages (from efficientnet==1.0.0->segmentation-models) (0.18.3)\n",
            "Requirement already satisfied: h5py in /usr/local/lib/python3.7/dist-packages (from keras-applications<=1.0.8,>=1.0.7->segmentation-models) (3.1.0)\n",
            "Requirement already satisfied: numpy>=1.9.1 in /usr/local/lib/python3.7/dist-packages (from keras-applications<=1.0.8,>=1.0.7->segmentation-models) (1.21.6)\n",
            "Requirement already satisfied: cached-property in /usr/local/lib/python3.7/dist-packages (from h5py->keras-applications<=1.0.8,>=1.0.7->segmentation-models) (1.5.2)\n",
            "Requirement already satisfied: tifffile>=2019.7.26 in /usr/local/lib/python3.7/dist-packages (from scikit-image->efficientnet==1.0.0->segmentation-models) (2021.11.2)\n",
            "Requirement already satisfied: matplotlib!=3.0.0,>=2.0.0 in /usr/local/lib/python3.7/dist-packages (from scikit-image->efficientnet==1.0.0->segmentation-models) (3.2.2)\n",
            "Requirement already satisfied: networkx>=2.0 in /usr/local/lib/python3.7/dist-packages (from scikit-image->efficientnet==1.0.0->segmentation-models) (2.6.3)\n",
            "Requirement already satisfied: pillow!=7.1.0,!=7.1.1,>=4.3.0 in /usr/local/lib/python3.7/dist-packages (from scikit-image->efficientnet==1.0.0->segmentation-models) (7.1.2)\n",
            "Requirement already satisfied: scipy>=1.0.1 in /usr/local/lib/python3.7/dist-packages (from scikit-image->efficientnet==1.0.0->segmentation-models) (1.7.3)\n",
            "Requirement already satisfied: imageio>=2.3.0 in /usr/local/lib/python3.7/dist-packages (from scikit-image->efficientnet==1.0.0->segmentation-models) (2.9.0)\n",
            "Requirement already satisfied: PyWavelets>=1.1.1 in /usr/local/lib/python3.7/dist-packages (from scikit-image->efficientnet==1.0.0->segmentation-models) (1.3.0)\n",
            "Requirement already satisfied: python-dateutil>=2.1 in /usr/local/lib/python3.7/dist-packages (from matplotlib!=3.0.0,>=2.0.0->scikit-image->efficientnet==1.0.0->segmentation-models) (2.8.2)\n",
            "Requirement already satisfied: kiwisolver>=1.0.1 in /usr/local/lib/python3.7/dist-packages (from matplotlib!=3.0.0,>=2.0.0->scikit-image->efficientnet==1.0.0->segmentation-models) (1.4.4)\n",
            "Requirement already satisfied: cycler>=0.10 in /usr/local/lib/python3.7/dist-packages (from matplotlib!=3.0.0,>=2.0.0->scikit-image->efficientnet==1.0.0->segmentation-models) (0.11.0)\n",
            "Requirement already satisfied: pyparsing!=2.0.4,!=2.1.2,!=2.1.6,>=2.0.1 in /usr/local/lib/python3.7/dist-packages (from matplotlib!=3.0.0,>=2.0.0->scikit-image->efficientnet==1.0.0->segmentation-models) (3.0.9)\n",
            "Requirement already satisfied: typing-extensions in /usr/local/lib/python3.7/dist-packages (from kiwisolver>=1.0.1->matplotlib!=3.0.0,>=2.0.0->scikit-image->efficientnet==1.0.0->segmentation-models) (4.1.1)\n",
            "Requirement already satisfied: six>=1.5 in /usr/local/lib/python3.7/dist-packages (from python-dateutil>=2.1->matplotlib!=3.0.0,>=2.0.0->scikit-image->efficientnet==1.0.0->segmentation-models) (1.15.0)\n",
            "Installing collected packages: keras-applications, image-classifiers, efficientnet, segmentation-models\n",
            "Successfully installed efficientnet-1.0.0 image-classifiers-1.0.0 keras-applications-1.0.8 segmentation-models-1.0.1\n"
          ]
        }
      ],
      "source": [
        "# Seed repo Python dependencies\n",
        "! pip install patchify\n",
        "! pip install segmentation-models\n",
        "! pip install -q keras # Keras\n",
        "\n",
        "#kaggle\n",
        "!pip install -q kaggle"
      ]
    },
    {
      "cell_type": "markdown",
      "metadata": {
        "id": "QWqaZyr6mavK"
      },
      "source": [
        "## Downloading Dataset from Kaggle"
      ]
    },
    {
      "cell_type": "code",
      "execution_count": 2,
      "metadata": {
        "colab": {
          "base_uri": "https://localhost:8080/",
          "height": 1000
        },
        "id": "8dGJLuAUfiKL",
        "outputId": "35132e50-e143-49c8-b924-8042cbe75e69"
      },
      "outputs": [
        {
          "output_type": "display_data",
          "data": {
            "text/plain": [
              "<IPython.core.display.HTML object>"
            ],
            "text/html": [
              "\n",
              "     <input type=\"file\" id=\"files-e399b54a-e901-49a1-82e7-5d90a621f128\" name=\"files[]\" multiple disabled\n",
              "        style=\"border:none\" />\n",
              "     <output id=\"result-e399b54a-e901-49a1-82e7-5d90a621f128\">\n",
              "      Upload widget is only available when the cell has been executed in the\n",
              "      current browser session. Please rerun this cell to enable.\n",
              "      </output>\n",
              "      <script>// Copyright 2017 Google LLC\n",
              "//\n",
              "// Licensed under the Apache License, Version 2.0 (the \"License\");\n",
              "// you may not use this file except in compliance with the License.\n",
              "// You may obtain a copy of the License at\n",
              "//\n",
              "//      http://www.apache.org/licenses/LICENSE-2.0\n",
              "//\n",
              "// Unless required by applicable law or agreed to in writing, software\n",
              "// distributed under the License is distributed on an \"AS IS\" BASIS,\n",
              "// WITHOUT WARRANTIES OR CONDITIONS OF ANY KIND, either express or implied.\n",
              "// See the License for the specific language governing permissions and\n",
              "// limitations under the License.\n",
              "\n",
              "/**\n",
              " * @fileoverview Helpers for google.colab Python module.\n",
              " */\n",
              "(function(scope) {\n",
              "function span(text, styleAttributes = {}) {\n",
              "  const element = document.createElement('span');\n",
              "  element.textContent = text;\n",
              "  for (const key of Object.keys(styleAttributes)) {\n",
              "    element.style[key] = styleAttributes[key];\n",
              "  }\n",
              "  return element;\n",
              "}\n",
              "\n",
              "// Max number of bytes which will be uploaded at a time.\n",
              "const MAX_PAYLOAD_SIZE = 100 * 1024;\n",
              "\n",
              "function _uploadFiles(inputId, outputId) {\n",
              "  const steps = uploadFilesStep(inputId, outputId);\n",
              "  const outputElement = document.getElementById(outputId);\n",
              "  // Cache steps on the outputElement to make it available for the next call\n",
              "  // to uploadFilesContinue from Python.\n",
              "  outputElement.steps = steps;\n",
              "\n",
              "  return _uploadFilesContinue(outputId);\n",
              "}\n",
              "\n",
              "// This is roughly an async generator (not supported in the browser yet),\n",
              "// where there are multiple asynchronous steps and the Python side is going\n",
              "// to poll for completion of each step.\n",
              "// This uses a Promise to block the python side on completion of each step,\n",
              "// then passes the result of the previous step as the input to the next step.\n",
              "function _uploadFilesContinue(outputId) {\n",
              "  const outputElement = document.getElementById(outputId);\n",
              "  const steps = outputElement.steps;\n",
              "\n",
              "  const next = steps.next(outputElement.lastPromiseValue);\n",
              "  return Promise.resolve(next.value.promise).then((value) => {\n",
              "    // Cache the last promise value to make it available to the next\n",
              "    // step of the generator.\n",
              "    outputElement.lastPromiseValue = value;\n",
              "    return next.value.response;\n",
              "  });\n",
              "}\n",
              "\n",
              "/**\n",
              " * Generator function which is called between each async step of the upload\n",
              " * process.\n",
              " * @param {string} inputId Element ID of the input file picker element.\n",
              " * @param {string} outputId Element ID of the output display.\n",
              " * @return {!Iterable<!Object>} Iterable of next steps.\n",
              " */\n",
              "function* uploadFilesStep(inputId, outputId) {\n",
              "  const inputElement = document.getElementById(inputId);\n",
              "  inputElement.disabled = false;\n",
              "\n",
              "  const outputElement = document.getElementById(outputId);\n",
              "  outputElement.innerHTML = '';\n",
              "\n",
              "  const pickedPromise = new Promise((resolve) => {\n",
              "    inputElement.addEventListener('change', (e) => {\n",
              "      resolve(e.target.files);\n",
              "    });\n",
              "  });\n",
              "\n",
              "  const cancel = document.createElement('button');\n",
              "  inputElement.parentElement.appendChild(cancel);\n",
              "  cancel.textContent = 'Cancel upload';\n",
              "  const cancelPromise = new Promise((resolve) => {\n",
              "    cancel.onclick = () => {\n",
              "      resolve(null);\n",
              "    };\n",
              "  });\n",
              "\n",
              "  // Wait for the user to pick the files.\n",
              "  const files = yield {\n",
              "    promise: Promise.race([pickedPromise, cancelPromise]),\n",
              "    response: {\n",
              "      action: 'starting',\n",
              "    }\n",
              "  };\n",
              "\n",
              "  cancel.remove();\n",
              "\n",
              "  // Disable the input element since further picks are not allowed.\n",
              "  inputElement.disabled = true;\n",
              "\n",
              "  if (!files) {\n",
              "    return {\n",
              "      response: {\n",
              "        action: 'complete',\n",
              "      }\n",
              "    };\n",
              "  }\n",
              "\n",
              "  for (const file of files) {\n",
              "    const li = document.createElement('li');\n",
              "    li.append(span(file.name, {fontWeight: 'bold'}));\n",
              "    li.append(span(\n",
              "        `(${file.type || 'n/a'}) - ${file.size} bytes, ` +\n",
              "        `last modified: ${\n",
              "            file.lastModifiedDate ? file.lastModifiedDate.toLocaleDateString() :\n",
              "                                    'n/a'} - `));\n",
              "    const percent = span('0% done');\n",
              "    li.appendChild(percent);\n",
              "\n",
              "    outputElement.appendChild(li);\n",
              "\n",
              "    const fileDataPromise = new Promise((resolve) => {\n",
              "      const reader = new FileReader();\n",
              "      reader.onload = (e) => {\n",
              "        resolve(e.target.result);\n",
              "      };\n",
              "      reader.readAsArrayBuffer(file);\n",
              "    });\n",
              "    // Wait for the data to be ready.\n",
              "    let fileData = yield {\n",
              "      promise: fileDataPromise,\n",
              "      response: {\n",
              "        action: 'continue',\n",
              "      }\n",
              "    };\n",
              "\n",
              "    // Use a chunked sending to avoid message size limits. See b/62115660.\n",
              "    let position = 0;\n",
              "    do {\n",
              "      const length = Math.min(fileData.byteLength - position, MAX_PAYLOAD_SIZE);\n",
              "      const chunk = new Uint8Array(fileData, position, length);\n",
              "      position += length;\n",
              "\n",
              "      const base64 = btoa(String.fromCharCode.apply(null, chunk));\n",
              "      yield {\n",
              "        response: {\n",
              "          action: 'append',\n",
              "          file: file.name,\n",
              "          data: base64,\n",
              "        },\n",
              "      };\n",
              "\n",
              "      let percentDone = fileData.byteLength === 0 ?\n",
              "          100 :\n",
              "          Math.round((position / fileData.byteLength) * 100);\n",
              "      percent.textContent = `${percentDone}% done`;\n",
              "\n",
              "    } while (position < fileData.byteLength);\n",
              "  }\n",
              "\n",
              "  // All done.\n",
              "  yield {\n",
              "    response: {\n",
              "      action: 'complete',\n",
              "    }\n",
              "  };\n",
              "}\n",
              "\n",
              "scope.google = scope.google || {};\n",
              "scope.google.colab = scope.google.colab || {};\n",
              "scope.google.colab._files = {\n",
              "  _uploadFiles,\n",
              "  _uploadFilesContinue,\n",
              "};\n",
              "})(self);\n",
              "</script> "
            ]
          },
          "metadata": {}
        },
        {
          "output_type": "stream",
          "name": "stdout",
          "text": [
            "Saving kaggle.json to kaggle.json\n",
            "Downloading semantic-segmentation-of-aerial-imagery.zip to /content\n",
            " 57% 17.0M/29.6M [00:00<00:00, 81.2MB/s]\n",
            "100% 29.6M/29.6M [00:00<00:00, 113MB/s] \n",
            "Archive:  semantic-segmentation-of-aerial-imagery.zip\n",
            "  inflating: Semantic segmentation dataset/Tile 1/images/image_part_001.jpg  \n",
            "  inflating: Semantic segmentation dataset/Tile 1/images/image_part_002.jpg  \n",
            "  inflating: Semantic segmentation dataset/Tile 1/images/image_part_003.jpg  \n",
            "  inflating: Semantic segmentation dataset/Tile 1/images/image_part_004.jpg  \n",
            "  inflating: Semantic segmentation dataset/Tile 1/images/image_part_005.jpg  \n",
            "  inflating: Semantic segmentation dataset/Tile 1/images/image_part_006.jpg  \n",
            "  inflating: Semantic segmentation dataset/Tile 1/images/image_part_007.jpg  \n",
            "  inflating: Semantic segmentation dataset/Tile 1/images/image_part_008.jpg  \n",
            "  inflating: Semantic segmentation dataset/Tile 1/images/image_part_009.jpg  \n",
            "  inflating: Semantic segmentation dataset/Tile 1/masks/image_part_001.png  \n",
            "  inflating: Semantic segmentation dataset/Tile 1/masks/image_part_002.png  \n",
            "  inflating: Semantic segmentation dataset/Tile 1/masks/image_part_003.png  \n",
            "  inflating: Semantic segmentation dataset/Tile 1/masks/image_part_004.png  \n",
            "  inflating: Semantic segmentation dataset/Tile 1/masks/image_part_005.png  \n",
            "  inflating: Semantic segmentation dataset/Tile 1/masks/image_part_006.png  \n",
            "  inflating: Semantic segmentation dataset/Tile 1/masks/image_part_007.png  \n",
            "  inflating: Semantic segmentation dataset/Tile 1/masks/image_part_008.png  \n",
            "  inflating: Semantic segmentation dataset/Tile 1/masks/image_part_009.png  \n",
            "  inflating: Semantic segmentation dataset/Tile 2/images/image_part_001.jpg  \n",
            "  inflating: Semantic segmentation dataset/Tile 2/images/image_part_002.jpg  \n",
            "  inflating: Semantic segmentation dataset/Tile 2/images/image_part_003.jpg  \n",
            "  inflating: Semantic segmentation dataset/Tile 2/images/image_part_004.jpg  \n",
            "  inflating: Semantic segmentation dataset/Tile 2/images/image_part_005.jpg  \n",
            "  inflating: Semantic segmentation dataset/Tile 2/images/image_part_006.jpg  \n",
            "  inflating: Semantic segmentation dataset/Tile 2/images/image_part_007.jpg  \n",
            "  inflating: Semantic segmentation dataset/Tile 2/images/image_part_008.jpg  \n",
            "  inflating: Semantic segmentation dataset/Tile 2/images/image_part_009.jpg  \n",
            "  inflating: Semantic segmentation dataset/Tile 2/masks/image_part_001.png  \n",
            "  inflating: Semantic segmentation dataset/Tile 2/masks/image_part_002.png  \n",
            "  inflating: Semantic segmentation dataset/Tile 2/masks/image_part_003.png  \n",
            "  inflating: Semantic segmentation dataset/Tile 2/masks/image_part_004.png  \n",
            "  inflating: Semantic segmentation dataset/Tile 2/masks/image_part_005.png  \n",
            "  inflating: Semantic segmentation dataset/Tile 2/masks/image_part_006.png  \n",
            "  inflating: Semantic segmentation dataset/Tile 2/masks/image_part_007.png  \n",
            "  inflating: Semantic segmentation dataset/Tile 2/masks/image_part_008.png  \n",
            "  inflating: Semantic segmentation dataset/Tile 2/masks/image_part_009.png  \n",
            "  inflating: Semantic segmentation dataset/Tile 3/images/image_part_001.jpg  \n",
            "  inflating: Semantic segmentation dataset/Tile 3/images/image_part_002.jpg  \n",
            "  inflating: Semantic segmentation dataset/Tile 3/images/image_part_003.jpg  \n",
            "  inflating: Semantic segmentation dataset/Tile 3/images/image_part_004.jpg  \n",
            "  inflating: Semantic segmentation dataset/Tile 3/images/image_part_005.jpg  \n",
            "  inflating: Semantic segmentation dataset/Tile 3/images/image_part_006.jpg  \n",
            "  inflating: Semantic segmentation dataset/Tile 3/images/image_part_007.jpg  \n",
            "  inflating: Semantic segmentation dataset/Tile 3/images/image_part_008.jpg  \n",
            "  inflating: Semantic segmentation dataset/Tile 3/images/image_part_009.jpg  \n",
            "  inflating: Semantic segmentation dataset/Tile 3/masks/image_part_001.png  \n",
            "  inflating: Semantic segmentation dataset/Tile 3/masks/image_part_002.png  \n",
            "  inflating: Semantic segmentation dataset/Tile 3/masks/image_part_003.png  \n",
            "  inflating: Semantic segmentation dataset/Tile 3/masks/image_part_004.png  \n",
            "  inflating: Semantic segmentation dataset/Tile 3/masks/image_part_005.png  \n",
            "  inflating: Semantic segmentation dataset/Tile 3/masks/image_part_006.png  \n",
            "  inflating: Semantic segmentation dataset/Tile 3/masks/image_part_007.png  \n",
            "  inflating: Semantic segmentation dataset/Tile 3/masks/image_part_008.png  \n",
            "  inflating: Semantic segmentation dataset/Tile 3/masks/image_part_009.png  \n",
            "  inflating: Semantic segmentation dataset/Tile 4/images/image_part_001.jpg  \n",
            "  inflating: Semantic segmentation dataset/Tile 4/images/image_part_002.jpg  \n",
            "  inflating: Semantic segmentation dataset/Tile 4/images/image_part_003.jpg  \n",
            "  inflating: Semantic segmentation dataset/Tile 4/images/image_part_004.jpg  \n",
            "  inflating: Semantic segmentation dataset/Tile 4/images/image_part_005.jpg  \n",
            "  inflating: Semantic segmentation dataset/Tile 4/images/image_part_006.jpg  \n",
            "  inflating: Semantic segmentation dataset/Tile 4/images/image_part_007.jpg  \n",
            "  inflating: Semantic segmentation dataset/Tile 4/images/image_part_008.jpg  \n",
            "  inflating: Semantic segmentation dataset/Tile 4/images/image_part_009.jpg  \n",
            "  inflating: Semantic segmentation dataset/Tile 4/masks/image_part_001.png  \n",
            "  inflating: Semantic segmentation dataset/Tile 4/masks/image_part_002.png  \n",
            "  inflating: Semantic segmentation dataset/Tile 4/masks/image_part_003.png  \n",
            "  inflating: Semantic segmentation dataset/Tile 4/masks/image_part_004.png  \n",
            "  inflating: Semantic segmentation dataset/Tile 4/masks/image_part_005.png  \n",
            "  inflating: Semantic segmentation dataset/Tile 4/masks/image_part_006.png  \n",
            "  inflating: Semantic segmentation dataset/Tile 4/masks/image_part_007.png  \n",
            "  inflating: Semantic segmentation dataset/Tile 4/masks/image_part_008.png  \n",
            "  inflating: Semantic segmentation dataset/Tile 4/masks/image_part_009.png  \n",
            "  inflating: Semantic segmentation dataset/Tile 5/images/image_part_001.jpg  \n",
            "  inflating: Semantic segmentation dataset/Tile 5/images/image_part_002.jpg  \n",
            "  inflating: Semantic segmentation dataset/Tile 5/images/image_part_003.jpg  \n",
            "  inflating: Semantic segmentation dataset/Tile 5/images/image_part_004.jpg  \n",
            "  inflating: Semantic segmentation dataset/Tile 5/images/image_part_005.jpg  \n",
            "  inflating: Semantic segmentation dataset/Tile 5/images/image_part_006.jpg  \n",
            "  inflating: Semantic segmentation dataset/Tile 5/images/image_part_007.jpg  \n",
            "  inflating: Semantic segmentation dataset/Tile 5/images/image_part_008.jpg  \n",
            "  inflating: Semantic segmentation dataset/Tile 5/images/image_part_009.jpg  \n",
            "  inflating: Semantic segmentation dataset/Tile 5/masks/image_part_001.png  \n",
            "  inflating: Semantic segmentation dataset/Tile 5/masks/image_part_002.png  \n",
            "  inflating: Semantic segmentation dataset/Tile 5/masks/image_part_003.png  \n",
            "  inflating: Semantic segmentation dataset/Tile 5/masks/image_part_004.png  \n",
            "  inflating: Semantic segmentation dataset/Tile 5/masks/image_part_005.png  \n",
            "  inflating: Semantic segmentation dataset/Tile 5/masks/image_part_006.png  \n",
            "  inflating: Semantic segmentation dataset/Tile 5/masks/image_part_007.png  \n",
            "  inflating: Semantic segmentation dataset/Tile 5/masks/image_part_008.png  \n",
            "  inflating: Semantic segmentation dataset/Tile 5/masks/image_part_009.png  \n",
            "  inflating: Semantic segmentation dataset/Tile 6/images/image_part_001.jpg  \n",
            "  inflating: Semantic segmentation dataset/Tile 6/images/image_part_002.jpg  \n",
            "  inflating: Semantic segmentation dataset/Tile 6/images/image_part_003.jpg  \n",
            "  inflating: Semantic segmentation dataset/Tile 6/images/image_part_004.jpg  \n",
            "  inflating: Semantic segmentation dataset/Tile 6/images/image_part_005.jpg  \n",
            "  inflating: Semantic segmentation dataset/Tile 6/images/image_part_006.jpg  \n",
            "  inflating: Semantic segmentation dataset/Tile 6/images/image_part_007.jpg  \n",
            "  inflating: Semantic segmentation dataset/Tile 6/images/image_part_008.jpg  \n",
            "  inflating: Semantic segmentation dataset/Tile 6/images/image_part_009.jpg  \n",
            "  inflating: Semantic segmentation dataset/Tile 6/masks/image_part_001.png  \n",
            "  inflating: Semantic segmentation dataset/Tile 6/masks/image_part_002.png  \n",
            "  inflating: Semantic segmentation dataset/Tile 6/masks/image_part_003.png  \n",
            "  inflating: Semantic segmentation dataset/Tile 6/masks/image_part_004.png  \n",
            "  inflating: Semantic segmentation dataset/Tile 6/masks/image_part_005.png  \n",
            "  inflating: Semantic segmentation dataset/Tile 6/masks/image_part_006.png  \n",
            "  inflating: Semantic segmentation dataset/Tile 6/masks/image_part_007.png  \n",
            "  inflating: Semantic segmentation dataset/Tile 6/masks/image_part_008.png  \n",
            "  inflating: Semantic segmentation dataset/Tile 6/masks/image_part_009.png  \n",
            "  inflating: Semantic segmentation dataset/Tile 7/images/image_part_001.jpg  \n",
            "  inflating: Semantic segmentation dataset/Tile 7/images/image_part_002.jpg  \n",
            "  inflating: Semantic segmentation dataset/Tile 7/images/image_part_003.jpg  \n",
            "  inflating: Semantic segmentation dataset/Tile 7/images/image_part_004.jpg  \n",
            "  inflating: Semantic segmentation dataset/Tile 7/images/image_part_005.jpg  \n",
            "  inflating: Semantic segmentation dataset/Tile 7/images/image_part_006.jpg  \n",
            "  inflating: Semantic segmentation dataset/Tile 7/images/image_part_007.jpg  \n",
            "  inflating: Semantic segmentation dataset/Tile 7/images/image_part_008.jpg  \n",
            "  inflating: Semantic segmentation dataset/Tile 7/images/image_part_009.jpg  \n",
            "  inflating: Semantic segmentation dataset/Tile 7/masks/image_part_001.png  \n",
            "  inflating: Semantic segmentation dataset/Tile 7/masks/image_part_002.png  \n",
            "  inflating: Semantic segmentation dataset/Tile 7/masks/image_part_003.png  \n",
            "  inflating: Semantic segmentation dataset/Tile 7/masks/image_part_004.png  \n",
            "  inflating: Semantic segmentation dataset/Tile 7/masks/image_part_005.png  \n",
            "  inflating: Semantic segmentation dataset/Tile 7/masks/image_part_006.png  \n",
            "  inflating: Semantic segmentation dataset/Tile 7/masks/image_part_007.png  \n",
            "  inflating: Semantic segmentation dataset/Tile 7/masks/image_part_008.png  \n",
            "  inflating: Semantic segmentation dataset/Tile 7/masks/image_part_009.png  \n",
            "  inflating: Semantic segmentation dataset/Tile 8/images/image_part_001.jpg  \n",
            "  inflating: Semantic segmentation dataset/Tile 8/images/image_part_002.jpg  \n",
            "  inflating: Semantic segmentation dataset/Tile 8/images/image_part_003.jpg  \n",
            "  inflating: Semantic segmentation dataset/Tile 8/images/image_part_004.jpg  \n",
            "  inflating: Semantic segmentation dataset/Tile 8/images/image_part_005.jpg  \n",
            "  inflating: Semantic segmentation dataset/Tile 8/images/image_part_006.jpg  \n",
            "  inflating: Semantic segmentation dataset/Tile 8/images/image_part_007.jpg  \n",
            "  inflating: Semantic segmentation dataset/Tile 8/images/image_part_008.jpg  \n",
            "  inflating: Semantic segmentation dataset/Tile 8/images/image_part_009.jpg  \n",
            "  inflating: Semantic segmentation dataset/Tile 8/masks/image_part_001.png  \n",
            "  inflating: Semantic segmentation dataset/Tile 8/masks/image_part_002.png  \n",
            "  inflating: Semantic segmentation dataset/Tile 8/masks/image_part_003.png  \n",
            "  inflating: Semantic segmentation dataset/Tile 8/masks/image_part_004.png  \n",
            "  inflating: Semantic segmentation dataset/Tile 8/masks/image_part_005.png  \n",
            "  inflating: Semantic segmentation dataset/Tile 8/masks/image_part_006.png  \n",
            "  inflating: Semantic segmentation dataset/Tile 8/masks/image_part_007.png  \n",
            "  inflating: Semantic segmentation dataset/Tile 8/masks/image_part_008.png  \n",
            "  inflating: Semantic segmentation dataset/Tile 8/masks/image_part_009.png  \n",
            "  inflating: Semantic segmentation dataset/classes.json  \n"
          ]
        }
      ],
      "source": [
        "from google.colab import files\n",
        "files.upload()\n",
        "! mkdir ~/.kaggle\n",
        "! cp kaggle.json ~/.kaggle/\n",
        "! chmod 700 ~/.kaggle/kaggle.json\n",
        "! kaggle datasets download -d humansintheloop/semantic-segmentation-of-aerial-imagery\n",
        "! unzip semantic-segmentation-of-aerial-imagery.zip\n",
        "! rm semantic-segmentation-of-aerial-imagery.zip\n",
        "! rm kaggle.json # Delete kaggle.json"
      ]
    },
    {
      "cell_type": "markdown",
      "metadata": {
        "id": "QiookLDmX7lO"
      },
      "source": [
        "## Run Seed Repo Code\n",
        "\n",
        "Modified from Dr. Sreenivas Bhattiprolu's original repo found [here](https://github.com/bnsreenu/python_for_microscopists/tree/master/228_semantic_segmentation_of_aerial_imagery_using_unet).\n",
        "\n",
        "Changes made:\n",
        "\n",
        "\n",
        "* We were getting a problem where our images and masks were not matching in the array, so we sorted the images and masks by name when walking the directory.\n",
        "* Uncommented model save line.\n",
        "* Removed version with pre-trained weights as it was less performant.\n",
        "* Removed unnecessary blocks from original notebook (such as average IoU calculation).\n",
        "* Modified \"Predict on a few images\" to show 10 images.\n",
        "* Added block for precision/recall curve.\n",
        "* Removed training and validation IoU over epochs.\n",
        "* Changed epochs to 50.\n",
        "* Added metrics Precision and Recall.\n",
        "* Added NNI parameters for optimization.\n"
      ]
    },
    {
      "cell_type": "markdown",
      "source": [
        "## NNI HPO\n",
        "\n",
        "Using HyperBand to minimize loss."
      ],
      "metadata": {
        "id": "TFFFT5hZHb1m"
      }
    },
    {
      "cell_type": "code",
      "source": [
        "# Download model.py from out GitHub repo\n",
        "! wget -O model.py https://raw.githubusercontent.com/brendan123/Semantic-Segmentation/milestone-3/model.py\n",
        "\n",
        "# NNI\n",
        "! pip install nni # install nni\n",
        "! mkdir -p nni_repo\n",
        "! git clone https://github.com/microsoft/nni.git nni_repo/nni # clone NNI's offical repo to get examples"
      ],
      "metadata": {
        "colab": {
          "base_uri": "https://localhost:8080/",
          "height": 1000
        },
        "id": "VYrPko0kJZt9",
        "outputId": "c3ce39c6-5e08-4660-a78c-5e85fd7205d9"
      },
      "execution_count": 10,
      "outputs": [
        {
          "output_type": "stream",
          "name": "stdout",
          "text": [
            "Looking in indexes: https://pypi.org/simple, https://us-python.pkg.dev/colab-wheels/public/simple/\n",
            "Collecting nni\n",
            "  Downloading nni-2.9-py3-none-manylinux1_x86_64.whl (56.0 MB)\n",
            "\u001b[K     |████████████████████████████████| 56.0 MB 1.3 MB/s \n",
            "\u001b[?25hCollecting json-tricks>=3.15.5\n",
            "  Downloading json_tricks-3.16.1-py2.py3-none-any.whl (27 kB)\n",
            "Requirement already satisfied: astor in /usr/local/lib/python3.7/dist-packages (from nni) (0.8.1)\n",
            "Requirement already satisfied: numpy<1.22 in /usr/local/lib/python3.7/dist-packages (from nni) (1.21.6)\n",
            "Requirement already satisfied: tqdm in /usr/local/lib/python3.7/dist-packages (from nni) (4.64.1)\n",
            "Requirement already satisfied: hyperopt==0.1.2 in /usr/local/lib/python3.7/dist-packages (from nni) (0.1.2)\n",
            "Requirement already satisfied: scipy<1.8 in /usr/local/lib/python3.7/dist-packages (from nni) (1.7.3)\n",
            "Requirement already satisfied: pyyaml>=5.4 in /usr/local/lib/python3.7/dist-packages (from nni) (6.0)\n",
            "Requirement already satisfied: psutil in /usr/local/lib/python3.7/dist-packages (from nni) (5.4.8)\n",
            "Requirement already satisfied: typeguard in /usr/local/lib/python3.7/dist-packages (from nni) (2.7.1)\n",
            "Requirement already satisfied: filelock in /usr/local/lib/python3.7/dist-packages (from nni) (3.8.0)\n",
            "Requirement already satisfied: requests in /usr/local/lib/python3.7/dist-packages (from nni) (2.23.0)\n",
            "Collecting PythonWebHDFS\n",
            "  Downloading PythonWebHDFS-0.2.3-py3-none-any.whl (10 kB)\n",
            "Requirement already satisfied: prettytable in /usr/local/lib/python3.7/dist-packages (from nni) (3.5.0)\n",
            "Collecting schema\n",
            "  Downloading schema-0.7.5-py2.py3-none-any.whl (17 kB)\n",
            "Requirement already satisfied: cloudpickle in /usr/local/lib/python3.7/dist-packages (from nni) (1.5.0)\n",
            "Collecting responses\n",
            "  Downloading responses-0.22.0-py3-none-any.whl (51 kB)\n",
            "\u001b[K     |████████████████████████████████| 51 kB 8.3 MB/s \n",
            "\u001b[?25hRequirement already satisfied: pandas in /usr/local/lib/python3.7/dist-packages (from nni) (1.3.5)\n",
            "Requirement already satisfied: scikit-learn>=0.24.1 in /usr/local/lib/python3.7/dist-packages (from nni) (1.0.2)\n",
            "Requirement already satisfied: typing-extensions>=4.0.0 in /usr/local/lib/python3.7/dist-packages (from nni) (4.1.1)\n",
            "Collecting websockets>=10.1\n",
            "  Downloading websockets-10.4-cp37-cp37m-manylinux_2_5_x86_64.manylinux1_x86_64.manylinux_2_17_x86_64.manylinux2014_x86_64.whl (106 kB)\n",
            "\u001b[K     |████████████████████████████████| 106 kB 85.3 MB/s \n",
            "\u001b[?25hCollecting colorama\n",
            "  Downloading colorama-0.4.6-py2.py3-none-any.whl (25 kB)\n",
            "Requirement already satisfied: packaging in /usr/local/lib/python3.7/dist-packages (from nni) (21.3)\n",
            "Requirement already satisfied: pymongo in /usr/local/lib/python3.7/dist-packages (from hyperopt==0.1.2->nni) (4.3.2)\n",
            "Requirement already satisfied: future in /usr/local/lib/python3.7/dist-packages (from hyperopt==0.1.2->nni) (0.16.0)\n",
            "Requirement already satisfied: six in /usr/local/lib/python3.7/dist-packages (from hyperopt==0.1.2->nni) (1.15.0)\n",
            "Requirement already satisfied: networkx in /usr/local/lib/python3.7/dist-packages (from hyperopt==0.1.2->nni) (2.6.3)\n",
            "Requirement already satisfied: threadpoolctl>=2.0.0 in /usr/local/lib/python3.7/dist-packages (from scikit-learn>=0.24.1->nni) (3.1.0)\n",
            "Requirement already satisfied: joblib>=0.11 in /usr/local/lib/python3.7/dist-packages (from scikit-learn>=0.24.1->nni) (1.2.0)\n",
            "Requirement already satisfied: pyparsing!=3.0.5,>=2.0.2 in /usr/local/lib/python3.7/dist-packages (from packaging->nni) (3.0.9)\n",
            "Requirement already satisfied: pytz>=2017.3 in /usr/local/lib/python3.7/dist-packages (from pandas->nni) (2022.6)\n",
            "Requirement already satisfied: python-dateutil>=2.7.3 in /usr/local/lib/python3.7/dist-packages (from pandas->nni) (2.8.2)\n",
            "Requirement already satisfied: importlib-metadata in /usr/local/lib/python3.7/dist-packages (from prettytable->nni) (4.13.0)\n",
            "Requirement already satisfied: wcwidth in /usr/local/lib/python3.7/dist-packages (from prettytable->nni) (0.2.5)\n",
            "Requirement already satisfied: zipp>=0.5 in /usr/local/lib/python3.7/dist-packages (from importlib-metadata->prettytable->nni) (3.10.0)\n",
            "Requirement already satisfied: dnspython<3.0.0,>=1.16.0 in /usr/local/lib/python3.7/dist-packages (from pymongo->hyperopt==0.1.2->nni) (2.2.1)\n",
            "Collecting simplejson\n",
            "  Downloading simplejson-3.17.6-cp37-cp37m-manylinux_2_5_x86_64.manylinux1_x86_64.manylinux_2_12_x86_64.manylinux2010_x86_64.whl (130 kB)\n",
            "\u001b[K     |████████████████████████████████| 130 kB 90.4 MB/s \n",
            "\u001b[?25hRequirement already satisfied: urllib3!=1.25.0,!=1.25.1,<1.26,>=1.21.1 in /usr/local/lib/python3.7/dist-packages (from requests->nni) (1.24.3)\n",
            "Requirement already satisfied: certifi>=2017.4.17 in /usr/local/lib/python3.7/dist-packages (from requests->nni) (2022.9.24)\n",
            "Requirement already satisfied: idna<3,>=2.5 in /usr/local/lib/python3.7/dist-packages (from requests->nni) (2.10)\n",
            "Requirement already satisfied: chardet<4,>=3.0.2 in /usr/local/lib/python3.7/dist-packages (from requests->nni) (3.0.4)\n",
            "Requirement already satisfied: toml in /usr/local/lib/python3.7/dist-packages (from responses->nni) (0.10.2)\n",
            "Collecting types-toml\n",
            "  Downloading types_toml-0.10.8-py3-none-any.whl (4.5 kB)\n",
            "Collecting urllib3!=1.25.0,!=1.25.1,<1.26,>=1.21.1\n",
            "  Downloading urllib3-1.25.11-py2.py3-none-any.whl (127 kB)\n",
            "\u001b[K     |████████████████████████████████| 127 kB 79.6 MB/s \n",
            "\u001b[?25hRequirement already satisfied: contextlib2>=0.5.5 in /usr/local/lib/python3.7/dist-packages (from schema->nni) (0.5.5)\n",
            "Installing collected packages: urllib3, types-toml, simplejson, websockets, schema, responses, PythonWebHDFS, json-tricks, colorama, nni\n",
            "  Attempting uninstall: urllib3\n",
            "    Found existing installation: urllib3 1.24.3\n",
            "    Uninstalling urllib3-1.24.3:\n",
            "      Successfully uninstalled urllib3-1.24.3\n",
            "Successfully installed PythonWebHDFS-0.2.3 colorama-0.4.6 json-tricks-3.16.1 nni-2.9 responses-0.22.0 schema-0.7.5 simplejson-3.17.6 types-toml-0.10.8 urllib3-1.25.11 websockets-10.4\n"
          ]
        },
        {
          "output_type": "display_data",
          "data": {
            "application/vnd.colab-display-data+json": {
              "pip_warning": {
                "packages": [
                  "urllib3"
                ]
              }
            }
          },
          "metadata": {}
        },
        {
          "output_type": "stream",
          "name": "stdout",
          "text": [
            "Cloning into 'nni_repo/nni'...\n",
            "remote: Enumerating objects: 58988, done.\u001b[K\n",
            "remote: Counting objects: 100% (305/305), done.\u001b[K\n",
            "remote: Compressing objects: 100% (265/265), done.\u001b[K\n",
            "remote: Total 58988 (delta 100), reused 165 (delta 33), pack-reused 58683\u001b[K\n",
            "Receiving objects: 100% (58988/58988), 121.95 MiB | 38.63 MiB/s, done.\n",
            "Resolving deltas: 100% (35352/35352), done.\n"
          ]
        }
      ]
    },
    {
      "cell_type": "markdown",
      "source": [
        "Set up NNI Experiment"
      ],
      "metadata": {
        "id": "OFw8ZabIpD9m"
      }
    },
    {
      "cell_type": "code",
      "source": [
        "from nni.experiment import Experiment\n",
        "experiment = Experiment('local')\n",
        "\n",
        "search_space = {\n",
        "    'batch_size': {'_type': 'randint', '_value': [1, 32]},\n",
        "    'learning_rate': {'_type': 'loguniform', '_value': [0.0001, 0.1]},\n",
        "    'activation_type': {'_type': 'choice', '_value': ['relu', 'tanh', 'swish', None]}\n",
        "}\n",
        "\n",
        "experiment.config.trial_command = 'python model.py'\n",
        "experiment.config.trial_code_directory = '.'\n",
        "experiment.config.search_space = search_space\n",
        "experiment.config.tuner.name = 'HyperBand'\n",
        "experiment.config.tuner.class_args['optimize_mode'] = 'minimize'\n",
        "experiment.config.max_trial_number = 72\n",
        "experiment.config.trial_concurrency = 4"
      ],
      "metadata": {
        "id": "xB_30IRdH7R2"
      },
      "execution_count": 79,
      "outputs": []
    },
    {
      "cell_type": "markdown",
      "source": [
        "Download and install Ngrok. Get authtoken from user."
      ],
      "metadata": {
        "id": "BIi6fR9vplLg"
      }
    },
    {
      "cell_type": "code",
      "source": [
        "# Ngrok\n",
        "! wget https://bin.equinox.io/c/4VmDzA7iaHb/ngrok-stable-linux-amd64.zip # download ngrok and unzip it\n",
        "! unzip ngrok-stable-linux-amd64.zip && rm ngrok-stable-linux-amd64.zip\n",
        "\n",
        "# This is my authtoken please don't take it\n",
        "! ./ngrok authtoken 26JQrkyWKQCjAu3oESdi9hlbctZ_4VPqxWtWrM7YaqYxzUsoW"
      ],
      "metadata": {
        "colab": {
          "base_uri": "https://localhost:8080/"
        },
        "id": "PuARo1-jKTIL",
        "outputId": "902d42cf-92a6-4a83-f264-b713c37891c9"
      },
      "execution_count": 36,
      "outputs": [
        {
          "output_type": "stream",
          "name": "stdout",
          "text": [
            "--2022-11-12 00:38:07--  https://bin.equinox.io/c/4VmDzA7iaHb/ngrok-stable-linux-amd64.zip\n",
            "Resolving bin.equinox.io (bin.equinox.io)... 54.237.133.81, 52.202.168.65, 18.205.222.128, ...\n",
            "Connecting to bin.equinox.io (bin.equinox.io)|54.237.133.81|:443... connected.\n",
            "HTTP request sent, awaiting response... 200 OK\n",
            "Length: 13832437 (13M) [application/octet-stream]\n",
            "Saving to: ‘ngrok-stable-linux-amd64.zip’\n",
            "\n",
            "ngrok-stable-linux- 100%[===================>]  13.19M  39.4MB/s    in 0.3s    \n",
            "\n",
            "2022-11-12 00:38:08 (39.4 MB/s) - ‘ngrok-stable-linux-amd64.zip’ saved [13832437/13832437]\n",
            "\n",
            "Archive:  ngrok-stable-linux-amd64.zip\n",
            "replace ngrok? [y]es, [n]o, [A]ll, [N]one, [r]ename: y\n",
            "  inflating: ngrok                   \n",
            "Authtoken saved to configuration file: /root/.ngrok2/ngrok.yml\n"
          ]
        }
      ]
    },
    {
      "cell_type": "markdown",
      "source": [
        "Kill the old Ngrok Instance and start a new one for port 5000"
      ],
      "metadata": {
        "id": "ZLZxBHayo_J8"
      }
    },
    {
      "cell_type": "code",
      "source": [
        "# Kills old ngrok instance running on 5000 (if running)\n",
        "! kill $(lsof -t -i:5000)\n",
        "get_ipython().system_raw('./ngrok http 5000 &')"
      ],
      "metadata": {
        "colab": {
          "base_uri": "https://localhost:8080/"
        },
        "id": "cQKAPRbHLAi7",
        "outputId": "827377d4-ad4c-4a78-c653-26c3667501d2"
      },
      "execution_count": 80,
      "outputs": [
        {
          "output_type": "stream",
          "name": "stdout",
          "text": [
            "kill: usage: kill [-s sigspec | -n signum | -sigspec] pid | jobspec ... or kill -l [sigspec]\n"
          ]
        }
      ]
    },
    {
      "cell_type": "markdown",
      "source": [
        "Get the Ngrok URL"
      ],
      "metadata": {
        "id": "PynRTsn4o86a"
      }
    },
    {
      "cell_type": "code",
      "source": [
        "! curl -s http://localhost:4040/api/tunnels"
      ],
      "metadata": {
        "colab": {
          "base_uri": "https://localhost:8080/"
        },
        "id": "SdcMoB9RLI_R",
        "outputId": "3ab5c39d-13d1-4203-d7d5-7d5155ec357a"
      },
      "execution_count": 81,
      "outputs": [
        {
          "output_type": "stream",
          "name": "stdout",
          "text": [
            "{\"tunnels\":[{\"name\":\"command_line\",\"uri\":\"/api/tunnels/command_line\",\"public_url\":\"https://9d7a-35-184-13-121.ngrok.io\",\"proto\":\"https\",\"config\":{\"addr\":\"http://localhost:5000\",\"inspect\":true},\"metrics\":{\"conns\":{\"count\":0,\"gauge\":0,\"rate1\":0,\"rate5\":0,\"rate15\":0,\"p50\":0,\"p90\":0,\"p95\":0,\"p99\":0},\"http\":{\"count\":0,\"rate1\":0,\"rate5\":0,\"rate15\":0,\"p50\":0,\"p90\":0,\"p95\":0,\"p99\":0}}},{\"name\":\"command_line (http)\",\"uri\":\"/api/tunnels/command_line%20%28http%29\",\"public_url\":\"http://9d7a-35-184-13-121.ngrok.io\",\"proto\":\"http\",\"config\":{\"addr\":\"http://localhost:5000\",\"inspect\":true},\"metrics\":{\"conns\":{\"count\":0,\"gauge\":0,\"rate1\":0,\"rate5\":0,\"rate15\":0,\"p50\":0,\"p90\":0,\"p95\":0,\"p99\":0},\"http\":{\"count\":0,\"rate1\":0,\"rate5\":0,\"rate15\":0,\"p50\":0,\"p90\":0,\"p95\":0,\"p99\":0}}}],\"uri\":\"/api/tunnels\"}\n"
          ]
        }
      ]
    },
    {
      "cell_type": "markdown",
      "source": [
        "Delete old results (be careful with this)"
      ],
      "metadata": {
        "id": "KP06WyT0tKj2"
      }
    },
    {
      "cell_type": "code",
      "source": [
        "# Delete old results\n",
        "! rm -rf models"
      ],
      "metadata": {
        "id": "vvOyBJcvseTg"
      },
      "execution_count": 82,
      "outputs": []
    },
    {
      "cell_type": "markdown",
      "source": [
        "Begin the experiment!"
      ],
      "metadata": {
        "id": "-ukyv8Kyo64c"
      }
    },
    {
      "cell_type": "code",
      "source": [
        "experiment.run(5000)"
      ],
      "metadata": {
        "colab": {
          "base_uri": "https://localhost:8080/"
        },
        "id": "3iBsRodUK7Kv",
        "outputId": "8b1b3d7f-b77b-4a64-fffd-15c1a699db7f"
      },
      "execution_count": 83,
      "outputs": [
        {
          "output_type": "stream",
          "name": "stdout",
          "text": [
            "[2022-11-12 02:57:22] \u001b[32mCreating experiment, Experiment ID: \u001b[36mte0bfdzg\u001b[0m\n"
          ]
        },
        {
          "output_type": "stream",
          "name": "stderr",
          "text": [
            "INFO:nni.experiment:Creating experiment, Experiment ID: ${CYAN}te0bfdzg\n"
          ]
        },
        {
          "output_type": "stream",
          "name": "stdout",
          "text": [
            "[2022-11-12 02:57:22] \u001b[32mStarting web server...\u001b[0m\n"
          ]
        },
        {
          "output_type": "stream",
          "name": "stderr",
          "text": [
            "INFO:nni.experiment:Starting web server...\n"
          ]
        },
        {
          "output_type": "stream",
          "name": "stdout",
          "text": [
            "[2022-11-12 02:57:23] \u001b[32mSetting up...\u001b[0m\n"
          ]
        },
        {
          "output_type": "stream",
          "name": "stderr",
          "text": [
            "INFO:nni.experiment:Setting up...\n"
          ]
        },
        {
          "output_type": "stream",
          "name": "stdout",
          "text": [
            "[2022-11-12 02:57:23] \u001b[32mWeb portal URLs: \u001b[36mhttp://127.0.0.1:5000 http://172.28.0.2:5000\u001b[0m\n"
          ]
        },
        {
          "output_type": "stream",
          "name": "stderr",
          "text": [
            "INFO:nni.experiment:Web portal URLs: ${CYAN}http://127.0.0.1:5000 http://172.28.0.2:5000\n"
          ]
        },
        {
          "output_type": "stream",
          "name": "stdout",
          "text": [
            "[2022-11-12 05:44:52] \u001b[33mWARNING: KeyboardInterrupt detected\u001b[0m\n"
          ]
        },
        {
          "output_type": "stream",
          "name": "stderr",
          "text": [
            "WARNING:nni.experiment:KeyboardInterrupt detected\n"
          ]
        },
        {
          "output_type": "stream",
          "name": "stdout",
          "text": [
            "[2022-11-12 05:44:52] \u001b[32mStopping experiment, please wait...\u001b[0m\n"
          ]
        },
        {
          "output_type": "stream",
          "name": "stderr",
          "text": [
            "INFO:nni.experiment:Stopping experiment, please wait...\n"
          ]
        },
        {
          "output_type": "stream",
          "name": "stdout",
          "text": [
            "[2022-11-12 05:44:52] \u001b[32mExperiment stopped\u001b[0m\n"
          ]
        },
        {
          "output_type": "stream",
          "name": "stderr",
          "text": [
            "INFO:nni.experiment:Experiment stopped\n"
          ]
        }
      ]
    },
    {
      "cell_type": "markdown",
      "source": [
        "## Results\n",
        "\n",
        "Reults for all trials saved in models directory and the best is displayed in our docs folder."
      ],
      "metadata": {
        "id": "Mi8PxHbPt2Ji"
      }
    }
  ],
  "metadata": {
    "accelerator": "GPU",
    "colab": {
      "collapsed_sections": [],
      "provenance": [],
      "include_colab_link": true
    },
    "gpuClass": "premium",
    "kernelspec": {
      "display_name": "Python 3",
      "name": "python3"
    },
    "language_info": {
      "name": "python"
    }
  },
  "nbformat": 4,
  "nbformat_minor": 0
}