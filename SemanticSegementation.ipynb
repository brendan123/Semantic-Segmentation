{
  "nbformat": 4,
  "nbformat_minor": 0,
  "metadata": {
    "colab": {
      "provenance": [],
      "collapsed_sections": [],
      "include_colab_link": true
    },
    "kernelspec": {
      "name": "python3",
      "display_name": "Python 3"
    },
    "language_info": {
      "name": "python"
    }
  },
  "cells": [
    {
      "cell_type": "markdown",
      "metadata": {
        "id": "view-in-github",
        "colab_type": "text"
      },
      "source": [
        "<a href=\"https://colab.research.google.com/github/brendan123/Semantic-Segmentation/blob/milestone-1/SemanticSegementation.ipynb\" target=\"_parent\"><img src=\"https://colab.research.google.com/assets/colab-badge.svg\" alt=\"Open In Colab\"/></a>"
      ]
    },
    {
      "cell_type": "markdown",
      "source": [
        "# Milestone 1: Environment Preparation"
      ],
      "metadata": {
        "id": "kdg-353u7sfD"
      }
    },
    {
      "cell_type": "markdown",
      "source": [
        "### Install Dependencies"
      ],
      "metadata": {
        "id": "jsTluW1i7lCs"
      }
    },
    {
      "cell_type": "code",
      "execution_count": null,
      "metadata": {
        "id": "QUmRFa9brLDD"
      },
      "outputs": [],
      "source": [
        "# Python dependencies\n",
        "! pip install nni # install nni\n",
        "! pip install patchify\n",
        "! pip install segmentation-models\n",
        "\n",
        "# Ngrok\n",
        "! wget https://bin.equinox.io/c/4VmDzA7iaHb/ngrok-stable-linux-amd64.zip # download ngrok and unzip it\n",
        "! unzip ngrok-stable-linux-amd64.zip\n",
        "\n",
        "# NNI\n",
        "! mkdir -p nni_repo\n",
        "! git clone https://github.com/microsoft/nni.git nni_repo/nni # clone NNI's offical repo to get examples"
      ]
    },
    {
      "cell_type": "markdown",
      "source": [
        "### NNI UI"
      ],
      "metadata": {
        "id": "jFn4BIL27n5Y"
      }
    },
    {
      "cell_type": "code",
      "source": [
        "# Kills old ngrok instance running on 5000\n",
        "! kill $(lsof -t -i:5000)\n",
        "# This is my authtoken please don't take it\n",
        "! ./ngrok authtoken 26JQrkyWKQCjAu3oESdi9hlbctZ_4VPqxWtWrM7YaqYxzUsoW\n",
        "\n",
        "# Start an NNI example\n",
        "! nnictl create --config nni_repo/nni/examples/trials/mnist-pytorch/config.yml --port 5000 &\n",
        "# Start ngrok\n",
        "get_ipython().system_raw('./ngrok http 5000 &')\n",
        "\n",
        "# Get ngrok tunnel\n",
        "! curl -s http://localhost:4040/api/tunnels"
      ],
      "metadata": {
        "id": "Ho47l5nU6OoC",
        "colab": {
          "base_uri": "https://localhost:8080/"
        },
        "outputId": "1b4f6ec5-2274-450d-c328-814f06b5720e"
      },
      "execution_count": null,
      "outputs": [
        {
          "output_type": "stream",
          "name": "stdout",
          "text": [
            "kill: usage: kill [-s sigspec | -n signum | -sigspec] pid | jobspec ... or kill -l [sigspec]\n",
            "Authtoken saved to configuration file: /root/.ngrok2/ngrok.yml\n",
            "[2022-10-25 22:11:05] \u001b[32mCreating experiment, Experiment ID: \u001b[36m04cba1pe\u001b[0m\n",
            "[2022-10-25 22:11:05] \u001b[32mStarting web server...\u001b[0m\n",
            "[2022-10-25 22:11:06] \u001b[32mSetting up...\u001b[0m\n",
            "[2022-10-25 22:11:07] \u001b[32mWeb portal URLs: \u001b[36mhttp://127.0.0.1:5000 http://172.28.0.2:5000\u001b[0m\n",
            "[2022-10-25 22:11:07] \u001b[32mTo stop experiment run \"nnictl stop 04cba1pe\" or \"nnictl stop --all\"\u001b[0m\n",
            "[2022-10-25 22:11:07] \u001b[32mReference: https://nni.readthedocs.io/en/stable/reference/nnictl.html\u001b[0m\n",
            "\u001b[0m\u001b[0m{\"tunnels\":[],\"uri\":\"/api/tunnels\"}\n"
          ]
        }
      ]
    }
  ]
}